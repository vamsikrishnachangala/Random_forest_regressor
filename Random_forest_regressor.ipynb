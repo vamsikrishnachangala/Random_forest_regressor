{
  "nbformat": 4,
  "nbformat_minor": 0,
  "metadata": {
    "colab": {
      "name": "Random_forest_regressor.ipynb",
      "provenance": []
    },
    "kernelspec": {
      "name": "python3",
      "display_name": "Python 3"
    }
  },
  "cells": [
    {
      "cell_type": "markdown",
      "metadata": {
        "id": "anZrK160Z82Y",
        "colab_type": "text"
      },
      "source": [
        "# **Random Forest Regressor**"
      ]
    },
    {
      "cell_type": "markdown",
      "metadata": {
        "id": "eypMiaa2aB7W",
        "colab_type": "text"
      },
      "source": [
        "importing required libraries"
      ]
    },
    {
      "cell_type": "code",
      "metadata": {
        "id": "fSVjsLdlZRME",
        "colab_type": "code",
        "colab": {}
      },
      "source": [
        "import matplotlib.pyplot as plt \n",
        "import numpy as np\n",
        "import pandas as pd"
      ],
      "execution_count": 61,
      "outputs": []
    },
    {
      "cell_type": "markdown",
      "metadata": {
        "id": "Awu2hYjnaUbL",
        "colab_type": "text"
      },
      "source": [
        "setiing max rows and max columns in pandas"
      ]
    },
    {
      "cell_type": "code",
      "metadata": {
        "id": "dpo1A853aY8_",
        "colab_type": "code",
        "colab": {}
      },
      "source": [
        "pd.set_option('display.max_rows',100)\n",
        "pd.set_option('display.max_columns',100)"
      ],
      "execution_count": 62,
      "outputs": []
    },
    {
      "cell_type": "markdown",
      "metadata": {
        "id": "NSWG1teheJ_t",
        "colab_type": "text"
      },
      "source": [
        "importing dataset"
      ]
    },
    {
      "cell_type": "code",
      "metadata": {
        "id": "x29Y3cM4eTi6",
        "colab_type": "code",
        "colab": {
          "base_uri": "https://localhost:8080/",
          "height": 202
        },
        "outputId": "85814ab9-0e3e-486c-ee4c-085b12a3a1c4"
      },
      "source": [
        "dataset=pd.read_csv('Position_Salaries.csv')\n",
        "print(dataset)"
      ],
      "execution_count": 63,
      "outputs": [
        {
          "output_type": "stream",
          "text": [
            "            Position  Level   Salary\n",
            "0   Business Analyst      1    45000\n",
            "1  Junior Consultant      2    50000\n",
            "2  Senior Consultant      3    60000\n",
            "3            Manager      4    80000\n",
            "4    Country Manager      5   110000\n",
            "5     Region Manager      6   150000\n",
            "6            Partner      7   200000\n",
            "7     Senior Partner      8   300000\n",
            "8            C-level      9   500000\n",
            "9                CEO     10  1000000\n"
          ],
          "name": "stdout"
        }
      ]
    },
    {
      "cell_type": "markdown",
      "metadata": {
        "id": "xEZeIU9bfikW",
        "colab_type": "text"
      },
      "source": [
        "we can observe that level of job is coded according to position of job so position is a redundant feature"
      ]
    },
    {
      "cell_type": "markdown",
      "metadata": {
        "id": "354drAfJfy-p",
        "colab_type": "text"
      },
      "source": [
        "dropping redundant features"
      ]
    },
    {
      "cell_type": "code",
      "metadata": {
        "id": "vle05ap-f2LY",
        "colab_type": "code",
        "colab": {
          "base_uri": "https://localhost:8080/",
          "height": 202
        },
        "outputId": "4442f2ce-7ba7-4238-a798-497ce375595a"
      },
      "source": [
        "dataset.drop(columns=['Position'],inplace=True)\n",
        "print(dataset)"
      ],
      "execution_count": 64,
      "outputs": [
        {
          "output_type": "stream",
          "text": [
            "   Level   Salary\n",
            "0      1    45000\n",
            "1      2    50000\n",
            "2      3    60000\n",
            "3      4    80000\n",
            "4      5   110000\n",
            "5      6   150000\n",
            "6      7   200000\n",
            "7      8   300000\n",
            "8      9   500000\n",
            "9     10  1000000\n"
          ],
          "name": "stdout"
        }
      ]
    },
    {
      "cell_type": "markdown",
      "metadata": {
        "id": "Ktknt-YegK5v",
        "colab_type": "text"
      },
      "source": [
        "we dont have any missing values and categorical values"
      ]
    },
    {
      "cell_type": "markdown",
      "metadata": {
        "id": "EA6YoKaBgQYZ",
        "colab_type": "text"
      },
      "source": [
        "splitting dataset into dependent and independent variables"
      ]
    },
    {
      "cell_type": "code",
      "metadata": {
        "id": "El1Wn4FmgYOL",
        "colab_type": "code",
        "colab": {}
      },
      "source": [
        "x=dataset.iloc[:,0:1].values\n",
        "y=dataset.iloc[:,1].values"
      ],
      "execution_count": 65,
      "outputs": []
    },
    {
      "cell_type": "markdown",
      "metadata": {
        "id": "5fcdJi6ygh8M",
        "colab_type": "text"
      },
      "source": [
        "splitting into train and test"
      ]
    },
    {
      "cell_type": "code",
      "metadata": {
        "id": "P_xWB24CgueK",
        "colab_type": "code",
        "colab": {}
      },
      "source": [
        "from sklearn.model_selection import train_test_split\n",
        "x_train,x_test,y_train,y_test=train_test_split(x,y,test_size=0.2,random_state=0)"
      ],
      "execution_count": 66,
      "outputs": []
    },
    {
      "cell_type": "markdown",
      "metadata": {
        "id": "p9wPbgmzhfiP",
        "colab_type": "text"
      },
      "source": [
        "training random forest regressor"
      ]
    },
    {
      "cell_type": "code",
      "metadata": {
        "id": "QySNqHuKhjq7",
        "colab_type": "code",
        "colab": {
          "base_uri": "https://localhost:8080/",
          "height": 134
        },
        "outputId": "44cd71b1-044c-4814-9447-e1e81ef1cd01"
      },
      "source": [
        "from sklearn.ensemble import RandomForestRegressor\n",
        "rfr=RandomForestRegressor(n_estimators=10,random_state=0)\n",
        "rfr.fit(x_train,y_train)"
      ],
      "execution_count": 67,
      "outputs": [
        {
          "output_type": "execute_result",
          "data": {
            "text/plain": [
              "RandomForestRegressor(bootstrap=True, ccp_alpha=0.0, criterion='mse',\n",
              "                      max_depth=None, max_features='auto', max_leaf_nodes=None,\n",
              "                      max_samples=None, min_impurity_decrease=0.0,\n",
              "                      min_impurity_split=None, min_samples_leaf=1,\n",
              "                      min_samples_split=2, min_weight_fraction_leaf=0.0,\n",
              "                      n_estimators=10, n_jobs=None, oob_score=False,\n",
              "                      random_state=0, verbose=0, warm_start=False)"
            ]
          },
          "metadata": {
            "tags": []
          },
          "execution_count": 67
        }
      ]
    },
    {
      "cell_type": "markdown",
      "metadata": {
        "id": "d1TPFw5UlbLf",
        "colab_type": "text"
      },
      "source": [
        "predicting the test set "
      ]
    },
    {
      "cell_type": "code",
      "metadata": {
        "id": "WRoRqC-_leDC",
        "colab_type": "code",
        "colab": {}
      },
      "source": [
        "y_pred=rfr.predict(x_test)"
      ],
      "execution_count": 68,
      "outputs": []
    },
    {
      "cell_type": "markdown",
      "metadata": {
        "id": "VlM-LYXLl-Kv",
        "colab_type": "text"
      },
      "source": [
        "r2 score"
      ]
    },
    {
      "cell_type": "code",
      "metadata": {
        "id": "5j4MtIdAmmR1",
        "colab_type": "code",
        "colab": {
          "base_uri": "https://localhost:8080/",
          "height": 34
        },
        "outputId": "4e2d8645-5804-4216-a419-75621d2f3caa"
      },
      "source": [
        "from sklearn.metrics import r2_score\n",
        "r2_score(y_test,y_pred)"
      ],
      "execution_count": 69,
      "outputs": [
        {
          "output_type": "execute_result",
          "data": {
            "text/plain": [
              "0.9627995867768595"
            ]
          },
          "metadata": {
            "tags": []
          },
          "execution_count": 69
        }
      ]
    },
    {
      "cell_type": "markdown",
      "metadata": {
        "id": "Ch_a1kEho_x1",
        "colab_type": "text"
      },
      "source": [
        "Visualizing the results"
      ]
    },
    {
      "cell_type": "code",
      "metadata": {
        "id": "1mzH0FlepR6H",
        "colab_type": "code",
        "colab": {
          "base_uri": "https://localhost:8080/",
          "height": 295
        },
        "outputId": "65eea87f-d881-4e93-88f7-966c380436d8"
      },
      "source": [
        "x_grid=np.arange(min(x),max(x),0.1)\n",
        "x_grid=x_grid.reshape((len(x_grid),1))\n",
        "plt.scatter(x,y,color='red')\n",
        "plt.plot(x_grid,rfr.predict(x_grid),color='green')\n",
        "plt.title('Truth or Bluff(Random forest regressor)')\n",
        "plt.xlabel('position level')\n",
        "plt.ylabel('salary')\n",
        "plt.show()"
      ],
      "execution_count": 72,
      "outputs": [
        {
          "output_type": "display_data",
          "data": {
            "image/png": "[encoded data removed]",
            "text/plain": [
              "<Figure size 432x288 with 1 Axes>"
            ]
          },
          "metadata": {
            "tags": [],
            "needs_background": "light"
          }
        }
      ]
    }
  ]
}
